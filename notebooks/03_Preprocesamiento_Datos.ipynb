{
 "cells": [
  {
   "cell_type": "markdown",
   "id": "d3b33ea8-7295-446a-8fee-e001147f4a48",
   "metadata": {},
   "source": [
    "# 3.- Preprocesamiento de Datos\n",
    "\n",
    "# Índice\n",
    "\n",
    "- [3.1.- Funciones de Preprocesamiento](#1)\n",
    ">- [3.1.1.- Separación entre datos y etiquetas](#1)\n",
    ">- [3.1.2.- Estandarización de Datos](#2)\n",
    ">- [3.1.3.- Imputación de Valores Ausentes](#3)\n",
    ">>- [3.1.3.1.- Eliminación de atributos por missing value ratio](#31)\n",
    ">>- [3.1.3.2.- Estrategias de Imputación de Valores Ausentes](#32)\n",
    ">>>- [3.1.3.2.1.- Estrategia 1: Eliminación de registros con valores ausentes](#321)\n",
    ">>>- [3.1.3.2.2.- Estrategia 2: Imputación de valores ausentes con valor medio](#322)\n",
    ">>>- [3.1.3.2.3.- Estrategia 3: Imputación de valores ausentes mediante algoritmo KNN](#323)\n",
    ">- [3.1.4.- Evaluación de atributos discriminativos](#4)\n",
    ">- [3.1.5.- Análisis de Correlación de Atributos](#5)\n",
    "- [3.2.- Creación de Particiones](#6)\n",
    ">- [3.2.1- Separación atributos-clases](#21)\n",
    ">- [3.2.2- Estandarización](#22)\n",
    ">- [3.2.3- Valores ausentes](#23)\n",
    ">>- [3.2.3.1- Eliminacion de atributos por Missing Value Ratio](#231) \n",
    ">>- [3.2.3.2- Valores Ausentes - Eliminación](#232)\n",
    ">>- [3.2.3.3- Valores Ausentes - Imputación de Media](#233)\n",
    ">>- [3.2.3.4- Valores Ausentes - Imputación KNN](#234)\n",
    ">- [3.2.4- Atributos Discriminativos](#24)\n",
    ">>- [3.2.4.1- Atributos Discriminativos - Valores Ausentes - Eliminación](#241)\n",
    ">>- [3.2.4.2- Atributos Discriminativos - Valores Ausentes - Media](#242)\n",
    ">>- [3.2.4.3- Atributos Discriminativos - Valores Ausentes - KNN](#243)\n",
    ">- [3.2.5.- Análisis de Correlación de Atributos](#25)\n",
    ">>- [3.2.5.1.- Atributos Correlados - Valores Ausentes - Eliminación](#251)\n",
    ">>- [3.2.5.2.- Atributos Correlados - Valores Ausentes - Media](#252)\n",
    ">>- [3.2.5.3.- Atributos Correlados - Valores Ausentes - KNN](#253)\n",
    "- [3.3.- Guardar particiones y Preprocesadores](#3)\n",
    "\n",
    "<a id=\"1\"></a>\n",
    "# 3.1.- Funciones de Preprocesamiento\n",
    "Una vez disponemos de nuestra partición de entrenamiento, vamos a comenzar con el preprocesamiento de los datos:"
   ]
  },
  {
   "cell_type": "code",
   "execution_count": 1,
   "id": "af2b6179-254b-4fb4-b3ca-f0cedc636758",
   "metadata": {},
   "outputs": [],
   "source": [
    "import numpy as np\n",
    "import pandas as pd\n",
    "import pickle\n",
    "import matplotlib.pyplot as plt\n",
    "import os\n",
    "from sklearn.preprocessing import StandardScaler\n",
    "from sklearn.impute import SimpleImputer\n",
    "from sklearn.impute import KNNImputer\n",
    "from scipy.stats import kstest\n",
    "from scipy.stats import ttest_ind, mannwhitneyu\n",
    "from scipy import stats"
   ]
  },
  {
   "cell_type": "code",
   "execution_count": 2,
   "id": "31379334-c677-4bb8-bf8b-cc43f9144165",
   "metadata": {},
   "outputs": [],
   "source": [
    "# Cargamos nuestro dataset de entrenamiento\n",
    "data_train = pd.read_csv('../particiones/train.csv', sep=';', na_values='', decimal=',')\n",
    "\n",
    "# Cargamos nuestro dataset de test\n",
    "data_test = pd.read_csv('../particiones/test.csv', sep=';', na_values='', decimal=',')"
   ]
  },
  {
   "cell_type": "markdown",
   "id": "7bf9eb27-89ab-4288-b0f2-6ff56c726664",
   "metadata": {},
   "source": [
    "<a id=\"11\"></a>\n",
    "## 3.1.1.- Separación entre datos y etiquetas"
   ]
  },
  {
   "cell_type": "markdown",
   "id": "5259f144-3bd2-425c-9f8c-0b9765bb9bd2",
   "metadata": {},
   "source": [
    "Procedemos a separar los atributos y la variable target:"
   ]
  },
  {
   "cell_type": "code",
   "execution_count": 3,
   "id": "91819026-3bdc-4d6f-84e6-87a8608bb70e",
   "metadata": {},
   "outputs": [],
   "source": [
    "def separa_X_y(data):\n",
    "    X = data.iloc[:, :11].to_numpy(na_value=np.nan)\n",
    "    y = data['crisisJST'].to_numpy()\n",
    "    columna_anios = data['year'].to_numpy()\n",
    "\n",
    "    nombres_atributos_original = list(data.iloc[:, :11].columns)\n",
    "    print(nombres_atributos_original)\n",
    "    \n",
    "    return X, y, nombres_atributos_original, columna_anios"
   ]
  },
  {
   "cell_type": "markdown",
   "id": "7a7d5f3c-9b21-4faa-81b3-19f8a392d12c",
   "metadata": {},
   "source": [
    "<a id=\"12\"></a>\n",
    "## 3.1.2.- Estandarización de Datos"
   ]
  },
  {
   "cell_type": "code",
   "execution_count": 4,
   "id": "15d246b5-b81f-4a24-bfca-72afcd57287a",
   "metadata": {},
   "outputs": [],
   "source": [
    "def estandarizar(X_train, X_test):\n",
    "    standardizer = StandardScaler()\n",
    "    X_train_std = standardizer.fit_transform(X_train)\n",
    "    X_test_std = standardizer.transform(X_test)\n",
    "\n",
    "    # Comparamos los valores de entrenamiento antes y después de estandarizar\n",
    "    print(X_train[0])\n",
    "    print('---------')\n",
    "    print(X_train_std[0])\n",
    "    \n",
    "    return X_train_std, X_test_std, standardizer"
   ]
  },
  {
   "cell_type": "markdown",
   "id": "9e6cfe5a-da10-4d21-a0c9-f1c623fd9e24",
   "metadata": {},
   "source": [
    "<a id=\"13\"></a>\n",
    "## 3.1.3.- Imputación de Valores Ausentes\n",
    "Vamos a plantear tres posibles estrategias para la imputación de valores ausentes:\n",
    "* Eliminación de registros.\n",
    "* Imputación por el valor medio.\n",
    "* Uso de algoritmo K-Nearest Neighbors.\n",
    "\n",
    "Para cada caso crearemos una nueva partición a partir de nuestro dataset de entrenamiento para su uso en fases posteriores.\n",
    "\n",
    "Revisaremos también posibles atributos para los cuales el volumen global de valores ausentes es muy elevado, ya que en caso de tratarse de un volumen excesivo no tendría sentido mantener esas características porque o bien acabarían provocando tener que eliminar todos los registros porque todas las instancias tendrían algún valor nulo entre sus características, o bien los valores de imputación serán básicamente siempre los mismos por lo que el nivel de varianza y por tanto la utilidad predictiva será prácticamente nula.\n",
    "\n",
    "Estableceremos un umbral para eliminar todos aquellos atributos que tengan un porcentaje de valores ausentes superior al 30%."
   ]
  },
  {
   "cell_type": "markdown",
   "id": "ebd4fda8-b4b3-41ad-9f80-4a3444680fdc",
   "metadata": {},
   "source": [
    "<a id=\"131\"></a>\n",
    "### 3.1.3.1.- Eliminación de atributos por missing value ratio"
   ]
  },
  {
   "cell_type": "code",
   "execution_count": 5,
   "id": "92e25120-f17a-41e0-aba6-d4ede67903d7",
   "metadata": {},
   "outputs": [],
   "source": [
    "def eliminacion_missing_value_ratio(X_train, X_test, atributos_origen):\n",
    "\n",
    "    # Eliminamos los atributos con volumen de valores ausentes > 30%    \n",
    "    # Presentamos las dimensiones de datos originales\n",
    "    print(f'Atributos Originales: {X_train.shape[0]}')\n",
    "    \n",
    "    num_ausentes = np.sum(np.isnan(X_train),axis=0)\n",
    "    porcentaje = np.round(num_ausentes / X_train.shape[0] * 100, 2)\n",
    "    mask = porcentaje>30\n",
    "    porcentaje = porcentaje[porcentaje>30]\n",
    "\n",
    "    atributos_borrar = np.where(mask==True)[0].tolist()\n",
    "    \n",
    "    print(f'Número de Atributos eliminados: {len(porcentaje)}')\n",
    "    nuevos_atributos = atributos_origen.copy()\n",
    "    if not atributos_borrar == []:\n",
    "        print(f'Porcentaje Máximo: {np.max(porcentaje)}')\n",
    "        print(f'Porcentaje Mínimo: {np.min(porcentaje)}')\n",
    "    \n",
    "        X_train = np.delete(X_train, atributos_borrar, axis=1)\n",
    "        X_test = np.delete(X_test, atributos_borrar, axis=1)\n",
    "        nuevos_atributos = [i for j, i in enumerate(atributos_origen) if j not in atributos_borrar]\n",
    "   \n",
    "    return X_train, X_test, nuevos_atributos"
   ]
  },
  {
   "cell_type": "markdown",
   "id": "6186a873-b98b-4e99-9312-7645052b8ee3",
   "metadata": {},
   "source": [
    "<a id=\"132\"></a>\n",
    "### 3.1.3.2.- Estrategias de Imputación de Valores Ausentes\n",
    "<a id=\"1321\"></a>\n",
    "#### 3.1.3.2.1.- Estrategia 1: Eliminación de registros con valores ausentes"
   ]
  },
  {
   "cell_type": "code",
   "execution_count": 6,
   "id": "6f0305f5-0d12-47df-9daa-14ab9b1cf876",
   "metadata": {},
   "outputs": [],
   "source": [
    "def elimina_ausentes(X, y, X_test, y_test, columna_anios):\n",
    "    \n",
    "    # Presentamos los volúmenes de datos\n",
    "    print('Muestras de Entrenamiento Originales:')\n",
    "    print(X.shape)\n",
    "    print(y.shape)\n",
    "    _, ocurrencias = np.unique(y, return_counts=True)\n",
    "    print(f'Distribución de Muestras de Entrenamiento:[No Crisis Pre-Crisis] - {ocurrencias}')\n",
    "\n",
    "    print('Muestras de Test Originales:')\n",
    "    print(X_test.shape)\n",
    "    print(y_test.shape)\n",
    "    _, ocurrencias = np.unique(y_test, return_counts=True)\n",
    "    print(f'Distribución de Muestras de Test:[No Crisis Pre-Crisis] - {ocurrencias}')\n",
    "    \n",
    "    # Eliminación de registros: borraremos todos aquellos registros para los que alguno de los valores de los atributos no esté presente\n",
    "    X_aux = X.copy()\n",
    "    mask = np.isnan(X_aux).any(axis=1)\n",
    "    registros_borrar = np.where(mask==True)\n",
    "\n",
    "    X_aux = np.delete(X_aux, registros_borrar, axis=0)\n",
    "\n",
    "    # Tenemos que borrar también las etiquetas\n",
    "    y_aux = y.copy()\n",
    "    y_aux = np.delete(y_aux, registros_borrar, axis=0)\n",
    "    columna_aux = columna_anios.copy()\n",
    "    columna_aux = np.delete(columna_aux, registros_borrar, axis=0)\n",
    "\n",
    "    # Tenemos que borrar también las muestras de test\n",
    "    \n",
    "    X_test_aux = X_test.copy()\n",
    "    mask = np.isnan(X_test_aux).any(axis=1)\n",
    "    registros_borrar = np.where(mask==True)\n",
    "    X_test_aux = np.delete(X_test_aux, registros_borrar, axis=0)\n",
    "\n",
    "    y_test_aux = y_test.copy()\n",
    "    y_test_aux = np.delete(y_test_aux, registros_borrar, axis=0)\n",
    "\n",
    "    # Presentamos los nuevos volúmenes de datos tras eliminar los registros\n",
    "    print('Muestras de Entrenamiento Finales:')\n",
    "    print(X_aux.shape)\n",
    "    print(y_aux.shape)\n",
    "    _, ocurrencias = np.unique(y_aux, return_counts=True)\n",
    "    print(f'Distribución de Muestras de Entrenamiento:[No Crisis Pre-Crisis] - {ocurrencias}')\n",
    "\n",
    "    print('Muestras de Test Finales:')\n",
    "    print(X_test_aux.shape)\n",
    "    print(y_test_aux.shape)\n",
    "    _, ocurrencias = np.unique(y_test_aux, return_counts=True)\n",
    "    print(f'Distribución de Muestras de Test:[No Crisis Pre-Crisis] - {ocurrencias}')\n",
    "\n",
    "    return X_aux, y_aux, X_test_aux, y_test_aux, columna_aux"
   ]
  },
  {
   "cell_type": "markdown",
   "id": "fc7b9266-ec2f-48ed-8379-e498142c5f4f",
   "metadata": {},
   "source": [
    "<a id=\"1322\"></a>\n",
    "#### 3.1.3.2.2.- Estrategia 2: Imputación de valores ausentes con valor medio"
   ]
  },
  {
   "cell_type": "code",
   "execution_count": 7,
   "id": "8f5da411-c874-4290-a967-3bbac821bca6",
   "metadata": {},
   "outputs": [],
   "source": [
    "def imputa_ausentes_media(X_train, X_test):\n",
    "\n",
    "    # Imputación de valores ausentes por valor medio\n",
    "    X_train_media = X_train.copy()\n",
    "    X_test_media = X_test.copy()\n",
    "\n",
    "    imp = SimpleImputer(strategy='mean') # Utilizamos la estrategia de la media\n",
    "    X_train_media = imp.fit_transform(X_train_media)\n",
    "    X_test_media = imp.transform(X_test_media)\n",
    "\n",
    "    print(X_train_media.shape)\n",
    "    print(X_test_media.shape)\n",
    "\n",
    "    return X_train_media, X_test_media, imp"
   ]
  },
  {
   "cell_type": "markdown",
   "id": "9801a7dd-0986-46c5-be73-913f6b60b7b0",
   "metadata": {},
   "source": [
    "<a id=\"1323\"></a>\n",
    "#### 3.1.3.2.3.- Estrategia 3: Imputación de valores ausentes mediante algoritmo KNN"
   ]
  },
  {
   "cell_type": "code",
   "execution_count": 8,
   "id": "a61c00ec-a5da-48e4-b531-d0df8893498a",
   "metadata": {},
   "outputs": [],
   "source": [
    "def imputa_ausentes_knn(X_train, X_test):\n",
    "\n",
    "    # Imputación de valores ausentes mediante KNN\n",
    "    X_train_knn = X_train.copy()\n",
    "    X_test_knn = X_test.copy()\n",
    "\n",
    "    imp = KNNImputer()\n",
    "    X_train_knn = imp.fit_transform(X_train_knn)\n",
    "    X_test_knn = imp.transform(X_test_knn)\n",
    "\n",
    "    print(X_train_knn.shape)\n",
    "    print(X_test_knn.shape)\n",
    "\n",
    "    return X_train_knn, X_test_knn, imp"
   ]
  },
  {
   "cell_type": "markdown",
   "id": "ab45a70a-96a8-40b3-96c0-cdcf72d1d34c",
   "metadata": {},
   "source": [
    "<a id=\"14\"></a>\n",
    "## 3.1.4.- Evaluación de atributos discriminativos"
   ]
  },
  {
   "cell_type": "code",
   "execution_count": 9,
   "id": "cd80ce21-ee7b-4fcc-9d6c-4a20cd592531",
   "metadata": {},
   "outputs": [],
   "source": [
    "def evalua_atributos_discriminativos(X_train, y_train, X_test, atributos_origen, nombre_grafica):\n",
    "    # Establecemos el nivel de confianza al 99% para los contrastes de hipótesis \n",
    "    alpha=0.01\n",
    "    h_norm=np.zeros(X_train.shape[1])\n",
    "\n",
    "    nocrisis_data= X_train[y_train==0]\n",
    "    crisis_data= X_train[y_train==1]\n",
    "\n",
    "    h=np.zeros(X_train.shape[1])\n",
    "    h_disc=np.zeros(X_train.shape[1])\n",
    "    \n",
    "    for i in range(0,X_train.shape[1]):\n",
    "\n",
    "        # Mediante prueba de Kolmogorov-Smirnov verificamos si el atributo sigue o no una distribución normal\n",
    "        _, p_value=kstest(X_train[:,i],'norm')\n",
    "        if p_value<=alpha:\n",
    "            # Distribución no normal\n",
    "            h_norm[i]=0\n",
    "        else:\n",
    "            # Distribución normal\n",
    "            h_norm[i]=1\n",
    "\n",
    "        if h_norm[i]==0:\n",
    "            # Si no sigue una distribución normal => comparativa de las medianas de los atributos para las muestras\n",
    "            # asociadas a cada clase (prueba U de Mann-Whitney).\n",
    "            _,p_value=mannwhitneyu(crisis_data[:,i], nocrisis_data[:,i])\n",
    "        else:\n",
    "            # Si sigue una distribución normal => comparativa de medias de los atributos para las muestras asociadas\n",
    "            # a cada clase (prueba T de Student)\n",
    "            _,p_value=ttest_ind(crisis_data[:,i], nocrisis_data[:,i])\n",
    "\n",
    "        # Estudiamos dependencia atributo-clase\n",
    "        if p_value<=alpha:\n",
    "            # Atributo discriminante (hay dependencia atributo-clase)\n",
    "            h_disc[i]=1\n",
    "        else:\n",
    "            # Atributo no discriminante (no hay dependencia atributo-clase)\n",
    "            h_disc[i]=0\n",
    "\n",
    "    id_no_disc = np.where(h_disc==0)\n",
    "    \n",
    "    print('0 no normal, 1 sí normal', h_norm)\n",
    "    print('0 no discrimina 1 sí discrimina', h_disc)\n",
    "    print(f'Número de atributos discriminativos: {h_disc.sum()}')\n",
    "\n",
    "    X_train_disc = X_train.copy()\n",
    "    X_test_disc = X_test.copy()\n",
    "    \n",
    "    X_train_disc = np.delete(X_train_disc, id_no_disc[0], axis=1)\n",
    "    X_test_disc = np.delete(X_test_disc, id_no_disc[0], axis=1)\n",
    "    atributos_discriminativos = [atributos_origen[i] for i,_ in enumerate(atributos_origen) if h_disc[i]==1]\n",
    "\n",
    "    # Pinto las gráficas de box-plot para los atributos discriminativos\n",
    "    no_crisis= X_train_disc[y_train==0]\n",
    "    pre_crisis= X_train_disc[y_train==1]\n",
    "  \n",
    "    bpl = plt.boxplot(no_crisis, positions=np.array(range(np.shape(no_crisis)[1]))*2.0-0.4, sym='', widths=0.5,\n",
    "                      boxprops=dict(color='#dd3c12'),\n",
    "                      capprops=dict(color='#dd3c12'),\n",
    "                      whiskerprops=dict(color='#dd3c12'),\n",
    "                      medianprops=dict(color='#dd3c12'))\n",
    "    bpl = plt.boxplot(pre_crisis, positions=np.array(range(np.shape(no_crisis)[1]))*2.0+0.4, sym='', widths=0.5,\n",
    "                      boxprops=dict(color='#f4c4b8'),\n",
    "                      capprops=dict(color='#f4c4b8'),\n",
    "                      whiskerprops=dict(color='#f4c4b8'),\n",
    "                      medianprops=dict(color='#f4c4b8'))\n",
    "    plt.plot([], c='#dd3c12', label='No Crisis')\n",
    "    plt.plot([], c='#f4c4b8', label='Pre-Crisis')\n",
    "    plt.xticks(range(0, len(atributos_discriminativos)*2, 2), atributos_discriminativos, rotation=45)\n",
    "    plt.legend()\n",
    "    plt.title('Atributos Discriminativos')\n",
    "\n",
    "        # Guardo las gráficas para la presentación en app\n",
    "    if not os.path.exists('../app/graficas'):\n",
    "        os.mkdir('../app/graficas')\n",
    "\n",
    "    plt.savefig('../app/graficas/' + nombre_grafica + '.png', bbox_inches='tight')\n",
    "    \n",
    "    plt.show()\n",
    "\n",
    "    return X_train_disc, X_test_disc, atributos_discriminativos"
   ]
  },
  {
   "cell_type": "markdown",
   "id": "bb47abd6-bbc4-4092-ab50-07d327aa6e8d",
   "metadata": {},
   "source": [
    "<a id=\"15\"></a>\n",
    "## 3.1.5.- Análisis de Correlación de Atributos"
   ]
  },
  {
   "cell_type": "code",
   "execution_count": 10,
   "id": "2781c81b-8d4c-485f-8c52-7758b23cac4c",
   "metadata": {},
   "outputs": [],
   "source": [
    "def atributos_correlados(X, nombre_grafica):\n",
    "\n",
    "    # Guardo las gráficas para la presentación en app\n",
    "    if not os.path.exists('../app/graficas'):\n",
    "        os.mkdir('../app/graficas')\n",
    "    \n",
    "    R = np.corrcoef(X.transpose())\n",
    "    plt.imshow(R, cmap='OrRd')\n",
    "    plt.title('Coeficientes de Correlación')\n",
    "    plt.savefig('../app/graficas/' + nombre_grafica + '.png')\n",
    "    plt.show()\n",
    "\n",
    "    # Establecemos el umbarl de correlación\n",
    "    corr_th = 0.9\n",
    "    idx = abs(R) > corr_th\n",
    "    mts = np.triu(idx,1)\n",
    "    rows, cols = np.where(mts==True)\n",
    "    \n",
    "    id_corr = np.unique(cols)\n",
    "    if not id_corr.size > 0:\n",
    "        print('No hay atributos con alta correlación')\n",
    "    else:\n",
    "        print(id_corr)"
   ]
  },
  {
   "cell_type": "markdown",
   "id": "b1c9063f-98a6-4a0d-b5fb-714a9c47ade7",
   "metadata": {},
   "source": [
    "<a id=\"2\"></a>\n",
    "## 3.2.- Creación de Particiones\n",
    "A través de las funciones anteriores procederemos a crear las distintas particiones en base a las distintas estrategias de imputación a partir de los dos casos iniciales (con eventos historicos excepcionales y sin eventos históricos excepcionales).\n",
    "\n",
    "<a id=\"21\"></a>\n",
    "### 3.2.1- Separación atributos-clases"
   ]
  },
  {
   "cell_type": "code",
   "execution_count": 11,
   "id": "ba84b473-3f54-447b-9463-6f1e3ede2b00",
   "metadata": {},
   "outputs": [
    {
     "name": "stdout",
     "output_type": "stream",
     "text": [
      "['cpi_dif_por2', 'money_pib_dif_abs2', 'rconsbarro_dif_por2', 'pdebt_pib_dif_abs2', 'inv_pib_dif_abs2', 'ca_pib_dif_abs2', 'tloans_pib_dif_abs2', 'tdbtserv_pib_dif_abs2', 'global_loan2', 'global_drate', 'drate']\n",
      "['cpi_dif_por2', 'money_pib_dif_abs2', 'rconsbarro_dif_por2', 'pdebt_pib_dif_abs2', 'inv_pib_dif_abs2', 'ca_pib_dif_abs2', 'tloans_pib_dif_abs2', 'tdbtserv_pib_dif_abs2', 'global_loan2', 'global_drate', 'drate']\n"
     ]
    }
   ],
   "source": [
    "# Separamos datos X e y\n",
    "X_train, y_train, nombre_atributos_original, columna_anios = separa_X_y(data_train)\n",
    "X_test, y_test, _, _ = separa_X_y(data_test)"
   ]
  },
  {
   "cell_type": "markdown",
   "id": "d47003cc-8212-4523-a971-7c14e3557261",
   "metadata": {},
   "source": [
    "<a id=\"22\"></a>\n",
    "### 3.2.2- Estandarización"
   ]
  },
  {
   "cell_type": "code",
   "execution_count": 12,
   "id": "6c033bc1-391d-4877-b625-dbecae745309",
   "metadata": {},
   "outputs": [
    {
     "name": "stdout",
     "output_type": "stream",
     "text": [
      "[ 0.04761905  0.08925547  0.15295406  0.137642    0.0451141  -0.07703094\n",
      "         nan         nan -0.02692469  1.29883536         nan]\n",
      "---------\n",
      "[-0.14776343  1.09491589  1.19869266  1.5146299   1.64028195 -2.60668439\n",
      "         nan         nan -2.4130395   0.25241815         nan]\n"
     ]
    }
   ],
   "source": [
    "# Estandarizamos\n",
    "X_train_std, X_test_std, estandarizador = estandarizar(X_train, X_test)"
   ]
  },
  {
   "cell_type": "markdown",
   "id": "0e6ed416-b380-465f-954b-6c9ecdc3892e",
   "metadata": {},
   "source": [
    "<a id=\"23\"></a>\n",
    "### 3.2.3- Valores ausentes\n",
    "\n",
    "<a id=\"231\"></a>\n",
    "### 3.2.3.1- Eliminacion de atributos por Missing Value Ratio"
   ]
  },
  {
   "cell_type": "code",
   "execution_count": 13,
   "id": "d0755c08-ca21-465b-9239-40c5ac3c9a97",
   "metadata": {},
   "outputs": [
    {
     "name": "stdout",
     "output_type": "stream",
     "text": [
      "Atributos Originales: 984\n",
      "Número de Atributos eliminados: 0\n"
     ]
    }
   ],
   "source": [
    "# Eliminacion de atributos por Missing Value Ratio\n",
    "X_train_std, X_test_std, nuevos_atributos = eliminacion_missing_value_ratio(X_train_std, X_test_std, nombre_atributos_original)"
   ]
  },
  {
   "cell_type": "markdown",
   "id": "cd77eae3-b586-4317-a029-aa5bb0bfc575",
   "metadata": {},
   "source": [
    "<a id=\"232\"></a>\n",
    "#### 3.2.3.2- Valores Ausentes - Eliminación"
   ]
  },
  {
   "cell_type": "code",
   "execution_count": 14,
   "id": "01193000-6bed-4d4a-a002-c154650010ac",
   "metadata": {},
   "outputs": [
    {
     "name": "stdout",
     "output_type": "stream",
     "text": [
      "Muestras de Entrenamiento Originales:\n",
      "(984, 11)\n",
      "(984,)\n",
      "Distribución de Muestras de Entrenamiento:[No Crisis Pre-Crisis] - [960  24]\n",
      "Muestras de Test Originales:\n",
      "(241, 11)\n",
      "(241,)\n",
      "Distribución de Muestras de Test:[No Crisis Pre-Crisis] - [215  26]\n",
      "Muestras de Entrenamiento Finales:\n",
      "(873, 11)\n",
      "(873,)\n",
      "Distribución de Muestras de Entrenamiento:[No Crisis Pre-Crisis] - [849  24]\n",
      "Muestras de Test Finales:\n",
      "(238, 11)\n",
      "(238,)\n",
      "Distribución de Muestras de Test:[No Crisis Pre-Crisis] - [212  26]\n"
     ]
    }
   ],
   "source": [
    "X_train_std_deleted, y_train_deleted, X_test_std_deleted, y_test_deleted, columna_anios_deleted = elimina_ausentes(X_train_std, y_train, X_test_std, y_test, columna_anios)"
   ]
  },
  {
   "cell_type": "markdown",
   "id": "216c718d-ba0e-4e3d-975f-df55b2918218",
   "metadata": {},
   "source": [
    "<a id=\"233\"></a>\n",
    "#### 3.2.3.3- Valores Ausentes - Imputación de Media"
   ]
  },
  {
   "cell_type": "code",
   "execution_count": 15,
   "id": "32ba8197-d001-4b61-b061-e1a267dcf854",
   "metadata": {},
   "outputs": [
    {
     "name": "stdout",
     "output_type": "stream",
     "text": [
      "(984, 11)\n",
      "(241, 11)\n"
     ]
    }
   ],
   "source": [
    "X_train_std_media, X_test_std_media, imp_media = imputa_ausentes_media(X_train_std, X_test_std)\n",
    "y_train_media = y_train.copy()\n",
    "y_test_media = y_test.copy()"
   ]
  },
  {
   "cell_type": "markdown",
   "id": "7d516369-f078-4bc8-98c7-a180a5321a94",
   "metadata": {},
   "source": [
    "<a id=\"234\"></a>\n",
    "#### 3.2.3.4- Valores Ausentes - Imputación KNN"
   ]
  },
  {
   "cell_type": "code",
   "execution_count": 16,
   "id": "93f635d0-c361-47a2-9d94-53fdfac6cde2",
   "metadata": {},
   "outputs": [
    {
     "name": "stdout",
     "output_type": "stream",
     "text": [
      "(984, 11)\n",
      "(241, 11)\n"
     ]
    }
   ],
   "source": [
    "X_train_std_knn, X_test_std_knn, imp_knn = imputa_ausentes_knn(X_train_std, X_test_std)\n",
    "y_train_knn = y_train.copy()\n",
    "y_test_knn = y_test.copy()"
   ]
  },
  {
   "cell_type": "markdown",
   "id": "92cb944a-d187-4c92-b59b-2da34e0fcc5d",
   "metadata": {},
   "source": [
    "<a id=\"24\"></a>\n",
    "### 3.2.4- Atributos Discriminativos\n",
    "\n",
    "<a id=\"241\"></a>\n",
    "#### 3.2.4.1- Atributos Discriminativos - Valores Ausentes - Eliminación"
   ]
  },
  {
   "cell_type": "code",
   "execution_count": 17,
   "id": "374c478a-e7e2-43e9-bc13-4b1b3905a971",
   "metadata": {},
   "outputs": [
    {
     "name": "stdout",
     "output_type": "stream",
     "text": [
      "0 no normal, 1 sí normal [0. 0. 0. 0. 0. 0. 0. 0. 0. 0. 0.]\n",
      "0 no discrimina 1 sí discrimina [1. 0. 0. 0. 0. 1. 1. 1. 1. 1. 1.]\n",
      "Número de atributos discriminativos: 7.0\n"
     ]
    },
    {
     "data": {
      "image/png": "[encoded data removed]",
      "text/plain": [
       "<Figure size 640x480 with 1 Axes>"
      ]
     },
     "metadata": {},
     "output_type": "display_data"
    }
   ],
   "source": [
    "X_train_std_disc_deleted, X_test_std_disc_deleted, atributos_discriminativos_deleted = evalua_atributos_discriminativos(X_train_std_deleted, y_train_deleted, X_test_std_deleted, nuevos_atributos, 'disc_deleted')"
   ]
  },
  {
   "cell_type": "markdown",
   "id": "15f1f908-c339-4ce7-929a-0f285f07bab6",
   "metadata": {},
   "source": [
    "<a id=\"242\"></a>\n",
    "#### 3.2.4.2- Atributos Discriminativos - Valores Ausentes - Media"
   ]
  },
  {
   "cell_type": "code",
   "execution_count": 18,
   "id": "7a791643-f86e-4525-b0d1-9acb923fd17c",
   "metadata": {},
   "outputs": [
    {
     "name": "stdout",
     "output_type": "stream",
     "text": [
      "0 no normal, 1 sí normal [0. 0. 0. 0. 0. 0. 0. 0. 0. 0. 0.]\n",
      "0 no discrimina 1 sí discrimina [0. 0. 0. 0. 0. 1. 1. 1. 1. 1. 1.]\n",
      "Número de atributos discriminativos: 6.0\n"
     ]
    },
    {
     "data": {
      "image/png": "[encoded data removed]",
      "text/plain": [
       "<Figure size 640x480 with 1 Axes>"
      ]
     },
     "metadata": {},
     "output_type": "display_data"
    }
   ],
   "source": [
    "X_train_std_disc_media, X_test_std_disc_media, atributos_discriminativos_media = evalua_atributos_discriminativos(X_train_std_media, y_train_media, X_test_std_media, nuevos_atributos, 'disc_media')"
   ]
  },
  {
   "cell_type": "markdown",
   "id": "4792d661-afa2-42a4-9f63-f2cd836c7d11",
   "metadata": {},
   "source": [
    "<a id=\"243\"></a>\n",
    "#### 3.2.4.3- Atributos Discriminativos - Valores Ausentes - KNN"
   ]
  },
  {
   "cell_type": "code",
   "execution_count": 19,
   "id": "158f439f-5f8d-4b5c-af77-c7ce9ccdd1eb",
   "metadata": {},
   "outputs": [
    {
     "name": "stdout",
     "output_type": "stream",
     "text": [
      "0 no normal, 1 sí normal [0. 0. 0. 0. 0. 0. 0. 0. 0. 0. 0.]\n",
      "0 no discrimina 1 sí discrimina [0. 0. 0. 0. 0. 1. 1. 1. 1. 1. 1.]\n",
      "Número de atributos discriminativos: 6.0\n"
     ]
    },
    {
     "data": {
      "image/png": "[encoded data removed]",
      "text/plain": [
       "<Figure size 640x480 with 1 Axes>"
      ]
     },
     "metadata": {},
     "output_type": "display_data"
    }
   ],
   "source": [
    "X_train_std_disc_knn, X_test_std_disc_knn, atributos_discriminativos_knn = evalua_atributos_discriminativos(X_train_std_knn, y_train_knn, X_test_std_knn, nuevos_atributos, 'disc_knn')"
   ]
  },
  {
   "cell_type": "markdown",
   "id": "56ef1753-cdcd-4a67-a558-36221b130fbd",
   "metadata": {},
   "source": [
    "<a id=\"25\"></a>\n",
    "## 3.2.5.- Análisis de Correlación de Atributos\n",
    "Vamos a revisar si existe correlación elevada entre atributos para las distintas particiones."
   ]
  },
  {
   "cell_type": "markdown",
   "id": "772467da-39fa-4d13-8214-2ec215423846",
   "metadata": {},
   "source": [
    "<a id=\"251\"></a>\n",
    "### 3.2.5.1.- Atributos Correlados - Valores Ausentes - Eliminación"
   ]
  },
  {
   "cell_type": "code",
   "execution_count": 20,
   "id": "2783fe55-2f8a-4b63-8af7-e012e0658eb7",
   "metadata": {},
   "outputs": [
    {
     "data": {
      "image/png": "[encoded data removed]",
      "text/plain": [
       "<Figure size 640x480 with 1 Axes>"
      ]
     },
     "metadata": {},
     "output_type": "display_data"
    },
    {
     "name": "stdout",
     "output_type": "stream",
     "text": [
      "No hay atributos con alta correlación\n"
     ]
    }
   ],
   "source": [
    "atributos_correlados(X_train_std_disc_deleted, 'corr_deleted')"
   ]
  },
  {
   "cell_type": "markdown",
   "id": "bff33fbc-c2ed-495e-ab54-8db313b13725",
   "metadata": {},
   "source": [
    "<a id=\"252\"></a>\n",
    "### 3.2.5.2.- Atributos Correlados - Valores Ausentes - Media"
   ]
  },
  {
   "cell_type": "code",
   "execution_count": 21,
   "id": "dd873220-fdb0-4c68-8437-d727a366f249",
   "metadata": {},
   "outputs": [
    {
     "data": {
      "image/png": "[encoded data removed]",
      "text/plain": [
       "<Figure size 640x480 with 1 Axes>"
      ]
     },
     "metadata": {},
     "output_type": "display_data"
    },
    {
     "name": "stdout",
     "output_type": "stream",
     "text": [
      "No hay atributos con alta correlación\n"
     ]
    }
   ],
   "source": [
    "atributos_correlados(X_train_std_disc_media, 'corr_media')"
   ]
  },
  {
   "cell_type": "markdown",
   "id": "789e9f33-8ba6-4fdf-858f-f11cb72e1d32",
   "metadata": {},
   "source": [
    "<a id=\"253\"></a>\n",
    "### 3.2.5.3.- Atributos Correlados - Valores Ausentes - KNN"
   ]
  },
  {
   "cell_type": "code",
   "execution_count": 22,
   "id": "e52a58c7-7368-4636-9b15-a74550968381",
   "metadata": {},
   "outputs": [
    {
     "data": {
      "image/png": "[encoded data removed]",
      "text/plain": [
       "<Figure size 640x480 with 1 Axes>"
      ]
     },
     "metadata": {},
     "output_type": "display_data"
    },
    {
     "name": "stdout",
     "output_type": "stream",
     "text": [
      "No hay atributos con alta correlación\n"
     ]
    }
   ],
   "source": [
    "atributos_correlados(X_train_std_disc_knn, 'corr_knn')"
   ]
  },
  {
   "cell_type": "markdown",
   "id": "6798cb4d-53b4-4e1b-be75-a26f0977f71b",
   "metadata": {},
   "source": [
    "<a id=\"3\"></a>\n",
    "## 3.3.- Guardar particiones y Preprocesadores\n",
    "Vamos a guardar las distintas particiones obtenidas, así como los imputadores, estandarizadores, etc."
   ]
  },
  {
   "cell_type": "code",
   "execution_count": 23,
   "id": "5680d4bb-6727-4435-be5f-6bbd4abfa8f1",
   "metadata": {},
   "outputs": [],
   "source": [
    "# Guardo las particiones, nombres de atributos, imputers, scalers, etc.\n",
    "\n",
    "if not os.path.exists('../preprocesadores'):\n",
    "    os.mkdir('../preprocesadores')\n",
    "    \n",
    "if not os.path.exists('../particiones/preprocesadas'):\n",
    "    os.mkdir('../particiones/preprocesadas')\n",
    "\n",
    "\n",
    "    # Atributos\n",
    "with open('../preprocesadores/nombre_atributos_original.pkl', 'wb') as f:\n",
    "    pickle.dump(nombre_atributos_original, f)\n",
    "\n",
    "with open('../preprocesadores/nuevos_atributos.pkl', 'wb') as f:\n",
    "    pickle.dump(nuevos_atributos, f)\n",
    "\n",
    "\n",
    "\n",
    "with open('../preprocesadores/atributos_discriminativos_deleted.pkl', 'wb') as f:\n",
    "    pickle.dump(atributos_discriminativos_deleted, f)\n",
    "\n",
    "with open('../preprocesadores/atributos_discriminativos_media.pkl', 'wb') as f:\n",
    "    pickle.dump(atributos_discriminativos_media, f)\n",
    "\n",
    "with open('../preprocesadores/atributos_discriminativos_knn.pkl', 'wb') as f:\n",
    "    pickle.dump(atributos_discriminativos_knn, f)\n",
    "\n",
    "\n",
    "\n",
    "\n",
    "    # Estandarizador e imputers\n",
    "with open('../preprocesadores/estandarizador.pkl', 'wb') as f:\n",
    "    pickle.dump(estandarizador, f)\n",
    "\n",
    "with open('../preprocesadores/imp_media.pkl', 'wb') as f:\n",
    "    pickle.dump(imp_media, f)\n",
    "\n",
    "with open('../preprocesadores/imp_knn.pkl', 'wb') as f:\n",
    "    pickle.dump(imp_knn, f)\n",
    "\n",
    "\n",
    "    # Columna auxiliar de años para creación de folds para cross-validation\n",
    "with open('../preprocesadores/columna_anios.pkl', 'wb') as f:\n",
    "    pickle.dump(columna_anios, f)\n",
    "\n",
    "with open('../preprocesadores/columna_anios_deleted.pkl', 'wb') as f:\n",
    "    pickle.dump(columna_anios_deleted, f)\n",
    "\n",
    "\n",
    "    # Particiones\n",
    "\n",
    "with open('../particiones/preprocesadas/X_train_std_deleted.pkl', 'wb') as f:\n",
    "    pickle.dump(X_train_std_deleted, f)\n",
    "\n",
    "with open('../particiones/preprocesadas/y_train_deleted.pkl', 'wb') as f:\n",
    "    pickle.dump(y_train_deleted, f)\n",
    "\n",
    "with open('../particiones/preprocesadas/X_test_std_deleted.pkl', 'wb') as f:\n",
    "    pickle.dump(X_test_std_deleted, f)\n",
    "\n",
    "with open('../particiones/preprocesadas/y_test_deleted.pkl', 'wb') as f:\n",
    "    pickle.dump(y_test_deleted, f)\n",
    "\n",
    "\n",
    "\n",
    "with open('../particiones/preprocesadas/X_train_std_media.pkl', 'wb') as f:\n",
    "    pickle.dump(X_train_std_media, f)\n",
    "\n",
    "with open('../particiones/preprocesadas/y_train_media.pkl', 'wb') as f:\n",
    "    pickle.dump(y_train_media, f)\n",
    "\n",
    "with open('../particiones/preprocesadas/X_test_std_media.pkl', 'wb') as f:\n",
    "    pickle.dump(X_test_std_media, f)\n",
    "\n",
    "with open('../particiones/preprocesadas/y_test_media.pkl', 'wb') as f:\n",
    "    pickle.dump(y_test_media, f)\n",
    "\n",
    "\n",
    "\n",
    "with open('../particiones/preprocesadas/X_train_std_knn.pkl', 'wb') as f:\n",
    "    pickle.dump(X_train_std_knn, f)\n",
    "\n",
    "with open('../particiones/preprocesadas/y_train_knn.pkl', 'wb') as f:\n",
    "    pickle.dump(y_train_knn, f)\n",
    "\n",
    "with open('../particiones/preprocesadas/X_test_std_knn.pkl', 'wb') as f:\n",
    "    pickle.dump(X_test_std_knn, f)\n",
    "\n",
    "with open('../particiones/preprocesadas/y_test_knn.pkl', 'wb') as f:\n",
    "    pickle.dump(y_test_knn, f)\n",
    "\n",
    "\n",
    "\n",
    "\n",
    "\n",
    "with open('../particiones/preprocesadas/X_train_std_disc_deleted.pkl', 'wb') as f:\n",
    "    pickle.dump(X_train_std_disc_deleted, f)\n",
    "\n",
    "with open('../particiones/preprocesadas/X_test_std_disc_deleted.pkl', 'wb') as f:\n",
    "    pickle.dump(X_test_std_disc_deleted, f)\n",
    "\n",
    "with open('../particiones/preprocesadas/X_train_std_disc_media.pkl', 'wb') as f:\n",
    "    pickle.dump(X_train_std_disc_media, f)\n",
    "\n",
    "with open('../particiones/preprocesadas/X_test_std_disc_media.pkl', 'wb') as f:\n",
    "    pickle.dump(X_test_std_disc_media, f)\n",
    "\n",
    "with open('../particiones/preprocesadas/X_train_std_disc_knn.pkl', 'wb') as f:\n",
    "    pickle.dump(X_train_std_disc_knn, f)\n",
    "\n",
    "with open('../particiones/preprocesadas/X_test_std_disc_knn.pkl', 'wb') as f:\n",
    "    pickle.dump(X_test_std_disc_knn, f)\n",
    "\n",
    "\n",
    "\n"
   ]
  }
 ],
 "metadata": {
  "kernelspec": {
   "display_name": "Python 3 (ipykernel)",
   "language": "python",
   "name": "python3"
  },
  "language_info": {
   "codemirror_mode": {
    "name": "ipython",
    "version": 3
   },
   "file_extension": ".py",
   "mimetype": "text/x-python",
   "name": "python",
   "nbconvert_exporter": "python",
   "pygments_lexer": "ipython3",
   "version": "3.9.13"
  }
 },
 "nbformat": 4,
 "nbformat_minor": 5
}
