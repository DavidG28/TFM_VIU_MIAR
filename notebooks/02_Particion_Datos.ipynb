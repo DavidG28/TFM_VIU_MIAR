{
 "cells": [
  {
   "cell_type": "markdown",
   "id": "d00c7945-8cc9-4f3c-b6d0-838ec2cd8141",
   "metadata": {},
   "source": [
    "# 2.- Partición Externa de Datos Externa (Hold-Out)\n",
    "Se va a comenzar realizando la partición de datos externa para separar el conjunto de datos total en los subconjuntos de entrenamiento (train), y prueba (test).\n",
    "Dado que estamos ante un problema de series temporales, se requiere mantener la coherencia temporal por lo que:\n",
    "\n",
    "* No se aplicará shuffle a los datos.\n",
    "* En este caso asegurar que datos de entrenamiento no se localizan entre los datos de test, no sólo se limita a las instancias individuales en sí, sino que dado que nuestro objetivo será predecir si en un cierto año y para un determinado país se está ante una posible situación de pre-crisis, también tenemos que asegurar que no existe información relativa a años posteriores en nuestro conjunto de test ni para el país bajo estudio en concreto ni tampoco para otros paises (*Hellwig, K.P. (2021). Predicting Fiscal Crises: A Machine Learning Approach*).\n",
    "* Para cumplir lo anterior se particionará el dataset a partir de un año concreto manteniendo los valores más cercanos a una distribución de porcentajes igual al 80% para datos de entrenamiento y 20% para datos de prueba."
   ]
  },
  {
   "cell_type": "code",
   "execution_count": 1,
   "id": "4df9098d-2e89-4492-8a3e-eef49e3ef044",
   "metadata": {},
   "outputs": [],
   "source": [
    "import numpy as np\n",
    "import pandas as pd"
   ]
  },
  {
   "cell_type": "code",
   "execution_count": 2,
   "id": "1a064b4e-0745-4fd9-bfbb-ea4ffd8438e2",
   "metadata": {},
   "outputs": [],
   "source": [
    "# Cargamos nuestro dataset\n",
    "data = pd.read_csv('../datasets/finales/data_final.csv', sep=';', na_values='', decimal=',')"
   ]
  },
  {
   "cell_type": "markdown",
   "id": "7ef0e22f-4ec4-4700-9264-7c8ec793f08d",
   "metadata": {},
   "source": [
    "Tendremos que tener en cuenta que las instancias para cada año no son iguales en el dataset final para mantener un porcentaje 80%-20% adecuado:"
   ]
  },
  {
   "cell_type": "code",
   "execution_count": 3,
   "id": "97fbf7ab-be8b-40bd-bb91-4a109acd50f3",
   "metadata": {},
   "outputs": [
    {
     "name": "stdout",
     "output_type": "stream",
     "text": [
      "Número Total de Países: 18\n",
      "Número Total de Años: 75\n",
      "Año de Particionado: 2004\n",
      "Muestras de Entrenamiento: (984, 14) -- 80.33% del total\n",
      "Muestras de Test: (241, 14) -- 19.67% del total\n",
      "Distribución de Muestras:\n",
      "\tEntrenamiento: ['No Crisis', 'Crisis'] - [960  24]\n",
      "\tTest: ['No Crisis', 'Crisis'] - [215  26]\n"
     ]
    }
   ],
   "source": [
    "pct_train = 0.8\n",
    "\n",
    "num_paises = len(np.unique(data['iso']))\n",
    "print(f'Número Total de Países: {num_paises}')\n",
    "\n",
    "num_anios = len(np.unique(data['year']))\n",
    "print(f'Número Total de Años: {num_anios}')\n",
    "\n",
    "instancias_test = data.shape[0] * (1 - pct_train)\n",
    "\n",
    "anio_particion = int((data['year'].max() - (instancias_test/num_paises))) - 2\n",
    "print(f'Año de Particionado: {anio_particion}')\n",
    "\n",
    "train = data[data['year'] < anio_particion]\n",
    "test = data[data['year'] >= anio_particion]\n",
    "\n",
    "print(f'Muestras de Entrenamiento: {train.shape} -- {train.shape[0] * 100 / data.shape[0]:.2f}% del total')\n",
    "print(f'Muestras de Test: {test.shape} -- {test.shape[0] * 100 / data.shape[0]:.2f}% del total')\n",
    "\n",
    "etiquetas = ['No Crisis', 'Crisis']\n",
    "_, ocurrencias_train = np.unique(train['crisisJST'], return_counts=True)\n",
    "_, ocurrencias_test = np.unique(test['crisisJST'], return_counts=True)\n",
    "print(f'Distribución de Muestras:\\n\\tEntrenamiento: {etiquetas} - {ocurrencias_train}\\n\\tTest: {etiquetas} - {ocurrencias_test}')"
   ]
  },
  {
   "cell_type": "code",
   "execution_count": 4,
   "id": "7f5a4c8a-313f-456e-8794-60c1626e04f7",
   "metadata": {},
   "outputs": [],
   "source": [
    "# Guardo las particiones\n",
    "import os\n",
    "if not os.path.exists('../particiones'):\n",
    "    os.mkdir('../particiones')\n",
    "\n",
    "train.to_csv('../particiones/train.csv', sep=';', na_rep='', decimal=',', index=False)\n",
    "test.to_csv('../particiones/test.csv', sep=';', na_rep='', decimal=',', index=False)"
   ]
  }
 ],
 "metadata": {
  "kernelspec": {
   "display_name": "Python 3 (ipykernel)",
   "language": "python",
   "name": "python3"
  },
  "language_info": {
   "codemirror_mode": {
    "name": "ipython",
    "version": 3
   },
   "file_extension": ".py",
   "mimetype": "text/x-python",
   "name": "python",
   "nbconvert_exporter": "python",
   "pygments_lexer": "ipython3",
   "version": "3.9.13"
  }
 },
 "nbformat": 4,
 "nbformat_minor": 5
}
